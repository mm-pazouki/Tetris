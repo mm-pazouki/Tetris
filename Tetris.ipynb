{
 "cells": [
  {
   "cell_type": "markdown",
   "id": "1999386e",
   "metadata": {},
   "source": [
    "# Tetris Game"
   ]
  },
  {
   "cell_type": "code",
   "execution_count": null,
   "id": "f24c0538",
   "metadata": {},
   "outputs": [],
   "source": [
    "import pygame\n",
    "import random"
   ]
  },
  {
   "cell_type": "code",
   "execution_count": null,
   "id": "9dc437bb",
   "metadata": {},
   "outputs": [],
   "source": [
    "pygame.font.init()"
   ]
  },
  {
   "cell_type": "markdown",
   "id": "7caaa1eb",
   "metadata": {},
   "source": [
    "# Global Variables"
   ]
  },
  {
   "cell_type": "code",
   "execution_count": null,
   "id": "414abe45",
   "metadata": {},
   "outputs": [],
   "source": [
    "s_width = 800\n",
    "s_height = 700\n",
    "play_width = 300 \n",
    "play_height = 600\n",
    "block_size = 30\n",
    "top_left_x = (s_width - play_width) // 2\n",
    "top_left_y = s_height - play_height"
   ]
  },
  {
   "cell_type": "markdown",
   "id": "9eb466db",
   "metadata": {},
   "source": [
    "# Shape Formations"
   ]
  },
  {
   "cell_type": "code",
   "execution_count": null,
   "id": "212835a2",
   "metadata": {},
   "outputs": [],
   "source": [
    "S = [[\\'.....\\',\n",
    "      \\'......\\',\n",
    "      \\'..00..\\',\n",
    "      \\'.00...\\',\n",
    "      \\'.....\\'],\n",
    "     [\\'.....\\',\n",
    "      \\'..0..\\',\n",
    "      \\'..00.\\',\n",
    "      \\'...0.\\',\n",
    "      \\'.....\\']]\n",
    " \n",
    "Z = [[\\'.....\\',\n",
    "      \\'.....\\',\n",
    "      \\'.00..\\',\n",
    "      \\'..00.\\',\n",
    "      \\'.....\\'],\n",
    "     [\\'.....\\',\n",
    "      \\'..0..\\',\n",
    "      \\'.00..\\',\n",
    "      \\'.0...\\',\n",
    "      \\'.....\\']]\n",
    " \n",
    "I = [[\\'..0..\\',\n",
    "      \\'..0..\\',\n",
    "      \\'..0..\\',\n",
    "      \\'..0..\\',\n",
    "      \\'.....\\'],\n",
    "     [\\'.....\\',\n",
    "      \\'0000.\\',\n",
    "      \\'.....\\',\n",
    "      \\'.....\\',\n",
    "      \\'.....\\']]\n",
    " \n",
    "O = [[\\'.....\\',\n",
    "      \\'.....\\',\n",
    "      \\'.00..\\',\n",
    "      \\'.00..\\',\n",
    "      \\'.....\\']]\n",
    " \n",
    "J = [[\\'.....\\',\n",
    "      \\'.0...\\',\n",
    "      \\'.000.\\',\n",
    "      \\'.....\\',\n",
    "      \\'.....\\'],\n",
    "     [\\'.....\\',\n",
    "      \\'..00.\\',\n",
    "      \\'..0..\\',\n",
    "      \\'..0..\\',\n",
    "      \\'.....\\'],\n",
    "     [\\'.....\\',\n",
    "      \\'.....\\',\n",
    "      \\'.000.\\',\n",
    "      \\'...0.\\',\n",
    "      \\'.....\\'],\n",
    "     [\\'.....\\',\n",
    "      \\'..0..\\',\n",
    "      \\'..0..\\',\n",
    "      \\'.00..\\',\n",
    "      \\'.....\\']]\n",
    " \n",
    "L = [[\\'.....\\',\n",
    "      \\'...0.\\',\n",
    "      \\'.000.\\',\n",
    "      \\'.....\\',\n",
    "      \\'.....\\'],\n",
    "     [\\'.....\\',\n",
    "      \\'..0..\\',\n",
    "      \\'..0..\\',\n",
    "      \\'..00.\\',\n",
    "      \\'.....\\'],\n",
    "     [\\'.....\\',\n",
    "      \\'.....\\',\n",
    "      \\'.000.\\',\n",
    "      \\'.0...\\',\n",
    "      \\'.....\\'],\n",
    "     [\\'.....\\',\n",
    "      \\'.00..\\',\n",
    "      \\'..0..\\',\n",
    "      \\'..0..\\',\n",
    "      \\'.....\\']]\n",
    " \n",
    "T = [[\\'.....\\',\n",
    "      \\'..0..\\',\n",
    "      \\'.000.\\',\n",
    "      \\'.....\\',\n",
    "      \\'.....\\'],\n",
    "     [\\'.....\\',\n",
    "      \\'..0..\\',\n",
    "      \\'..00.\\',\n",
    "      \\'..0..\\',\n",
    "      \\'.....\\'],\n",
    "     [\\'.....\\',\n",
    "      \\'.....\\',\n",
    "      \\'.000.\\',\n",
    "      \\'..0..\\',\n",
    "      \\'.....\\'],\n",
    "     [\\'.....\\',\n",
    "      \\'..0..\\',\n",
    "      \\'.00..\\',\n",
    "      \\'..0..\\',\n",
    "      \\'.....\\']]"
   ]
  },
  {
   "cell_type": "code",
   "execution_count": null,
   "id": "64b7bedd",
   "metadata": {},
   "outputs": [],
   "source": [
    "shapes = [S, Z, I, O, J, L, T]\n",
    "shape_colors = [(0, 255, 0), (255, 0, 0), (0, 255, 255), (255, 255, 0), (255, 165, 0), (0, 0, 255), (128, 0, 128)]"
   ]
  },
  {
   "cell_type": "code",
   "execution_count": null,
   "id": "1cf3c411",
   "metadata": {},
   "outputs": [],
   "source": [
    "class Piece(object):\n",
    "    rows = 20  # y\n",
    "    columns = 10  # x\n",
    " \n",
    "    def __init__(self, column, row, shape):\n",
    "        self.x = column\n",
    "        self.y = row\n",
    "        self.shape = shape\n",
    "        self.color = shape_colors[shapes.index(shape)]\n",
    "        self.rotation = 0  # number from 0-3"
   ]
  },
  {
   "cell_type": "markdown",
   "id": "feb42b51",
   "metadata": {},
   "source": [
    "# Functions"
   ]
  },
  {
   "cell_type": "code",
   "execution_count": null,
   "id": "0636754b",
   "metadata": {},
   "outputs": [],
   "source": [
    "def create_grid(locked_positions={}):\n",
    "    grid = [[(0,0,0) for x in range(10)] for x in range(20)]\n",
    " \n",
    "    for i in range(len(grid)):\n",
    "        for j in range(len(grid[i])):\n",
    "            if (j,i) in locked_positions:\n",
    "                c = locked_positions[(j,i)]\n",
    "                grid[i][j] = c\n",
    "    return grid"
   ]
  },
  {
   "cell_type": "code",
   "execution_count": null,
   "id": "480faf47",
   "metadata": {},
   "outputs": [],
   "source": [
    "def convert_shape_format(shape):\n",
    "    positions = []\n",
    "    format = shape.shape[shape.rotation % len(shape.shape)]\n",
    " \n",
    "    for i, line in enumerate(format):\n",
    "        row = list(line)\n",
    "        for j, column in enumerate(row):\n",
    "            if column == \\'0\\':\n",
    "                positions.append((shape.x + j, shape.y + i))\n",
    " \n",
    "    for i, pos in enumerate(positions):\n",
    "        positions[i] = (pos[0] - 2, pos[1] - 4)\n",
    " \n",
    "    return positions"
   ]
  },
  {
   "cell_type": "code",
   "execution_count": null,
   "id": "c822d64b",
   "metadata": {},
   "outputs": [],
   "source": [
    "def valid_space(shape, grid):\n",
    "    accepted_positions = [[(j, i) for j in range(10) if grid[i][j] == (0,0,0)] for i in range(20)]\n",
    "    accepted_positions = [j for sub in accepted_positions for j in sub]\n",
    "    formatted = convert_shape_format(shape)\n",
    " \n",
    "    for pos in formatted:\n",
    "        if pos not in accepted_positions:\n",
    "            if pos[1] > -1:\n",
    "                return False\n",
    " \n",
    "    return True"
   ]
  },
  {
   "cell_type": "code",
   "execution_count": null,
   "id": "ddd0f71f",
   "metadata": {},
   "outputs": [],
   "source": [
    "def check_lost(positions):\n",
    "    for pos in positions:\n",
    "        x, y = pos\n",
    "        if y < 1:\n",
    "            return True\n",
    "    return False"
   ]
  },
  {
   "cell_type": "code",
   "execution_count": null,
   "id": "2d1bd4e9",
   "metadata": {},
   "outputs": [],
   "source": [
    "def get_shape():\n",
    "    global shapes, shape_colors\n",
    " \n",
    "    return Piece(5, 0, random.choice(shapes))"
   ]
  },
  {
   "cell_type": "code",
   "execution_count": null,
   "id": "d1642d9d",
   "metadata": {},
   "outputs": [],
   "source": [
    "def draw_text_middle(text, size, color, surface):\n",
    "        font = pygame.font.SysFont(\\'comicsans\\', size, bold=True)\n",
    "        label = font.render(text, 1, color)\n",
    " \n",
    "        surface.blit(label, (top_left_x + play_width/2 - (label.get_width() / 2), top_left_y + play_height/2 - label.get_height()/2))"
   ]
  },
  {
   "cell_type": "code",
   "execution_count": null,
   "id": "21c7bfa3",
   "metadata": {},
   "outputs": [],
   "source": [
    "def draw_grid(surface, row, col):\n",
    "    sx = top_left_x\n",
    "    sy = top_left_y\n",
    "    for i in range(row):\n",
    "        pygame.draw.line(surface, (128,128,128), (sx, sy+ i*30), (sx + play_width, sy + i * 30))  \n",
    "        for j in range(col):\n",
    "            pygame.draw.line(surface, (128,128,128), (sx + j * 30, sy), (sx + j * 30, sy + play_height))  "
   ]
  },
  {
   "cell_type": "code",
   "execution_count": null,
   "id": "2134174f",
   "metadata": {},
   "outputs": [],
   "source": [
    "def clear_rows(grid, locked):"
   ]
  },
  {
   "cell_type": "code",
   "execution_count": null,
   "id": "b4613352",
   "metadata": {},
   "outputs": [],
   "source": [
    "def draw_next_shape(shape, surface):"
   ]
  },
  {
   "cell_type": "code",
   "execution_count": null,
   "id": "66423757",
   "metadata": {},
   "outputs": [],
   "source": [
    "def draw_window(surface):\n",
    "    surface.fill((0,0,0))\n",
    "\n",
    "    font = pygame.font.SysFont(\\'comicsans\\', 60)\n",
    "    label = font.render(\\'TETRIS\\', 1, (255,255,255))\n",
    " \n",
    "    surface.blit(label, (top_left_x + play_width / 2 - (label.get_width() / 2), 30))\n",
    "                        \n",
    "    for i in range(len(grid)):\n",
    "        for j in range(len(grid[i])):\n",
    "            pygame.draw.rect(surface, grid[i][j], (top_left_x + j* 30, top_left_y + i * 30, 30, 30), 0)\n",
    " \n",
    "    draw_grid(surface, 20, 10)\n",
    "    pygame.draw.rect(surface, (255, 0, 0), (top_left_x, top_left_y, play_width, play_height), 5)"
   ]
  },
  {
   "cell_type": "code",
   "execution_count": null,
   "id": "b30469ba",
   "metadata": {},
   "outputs": [],
   "source": [
    "def main():\n",
    "    global grid\n",
    " \n",
    "    locked_positions = {}\n",
    "    grid = create_grid(locked_positions)\n",
    " \n",
    "    change_piece = False\n",
    "    run = True\n",
    "    current_piece = get_shape()\n",
    "    next_piece = get_shape()\n",
    "    clock = pygame.time.Clock()\n",
    "    fall_time = 0\n",
    " \n",
    "    while run:\n",
    "        fall_speed = 0.27\n",
    " \n",
    "        grid = create_grid(locked_positions)\n",
    "        fall_time += clock.get_rawtime()\n",
    "        clock.tick()\n",
    " \n",
    "        if fall_time/1000 >= fall_speed:\n",
    "            fall_time = 0\n",
    "            current_piece.y += 1\n",
    "            if not (valid_space(current_piece, grid)) and current_piece.y > 0:\n",
    "                current_piece.y -= 1\n",
    "                change_piece = True\n",
    " \n",
    "        for event in pygame.event.get():\n",
    "            if event.type == pygame.QUIT:\n",
    "                run = False\n",
    "                pygame.display.quit()\n",
    "                quit()\n",
    " \n",
    "            if event.type == pygame.KEYDOWN:\n",
    "                if event.key == pygame.K_LEFT:\n",
    "                    current_piece.x -= 1\n",
    "                    if not valid_space(current_piece, grid):\n",
    "                        current_piece.x += 1\n",
    " \n",
    "                elif event.key == pygame.K_RIGHT:\n",
    "                    current_piece.x += 1\n",
    "                    if not valid_space(current_piece, grid):\n",
    "                        current_piece.x -= 1\n",
    "                elif event.key == pygame.K_UP:\n",
    "\n",
    "                    current_piece.rotation = current_piece.rotation + 1 % len(current_piece.shape)\n",
    "                    if not valid_space(current_piece, grid):\n",
    "                        current_piece.rotation = current_piece.rotation - 1 % len(current_piece.shape)\n",
    " \n",
    "                if event.key == pygame.K_DOWN:\n",
    "\n",
    "                    current_piece.y += 1\n",
    "                    if not valid_space(current_piece, grid):\n",
    "                        current_piece.y -= 1\n",
    " \n",
    "                \\'\\'\\'if event.key == pygame.K_SPACE:\n",
    "                   while valid_space(current_piece, grid):\n",
    "                       current_piece.y += 1\n",
    "                   current_piece.y -= 1\n",
    "                   print(convert_shape_format(current_piece))\\'\\'\\' \n",
    " \n",
    "        shape_pos = convert_shape_format(current_piece)\n",
    "\n",
    "        for i in range(len(shape_pos)):\n",
    "            x, y = shape_pos[i]\n",
    "            if y > -1:\n",
    "                grid[y][x] = current_piece.color\n",
    "\n",
    "        if change_piece:\n",
    "            for pos in shape_pos:\n",
    "                p = (pos[0], pos[1])\n",
    "                locked_positions[p] = current_piece.color\n",
    "            current_piece = next_piece\n",
    "            next_piece = get_shape()\n",
    "            change_piece = False\n",
    "\n",
    "            clear_rows(grid, locked_positions)\n",
    " \n",
    "        draw_window(win)\n",
    "        draw_next_shape(next_piece, win)\n",
    "        pygame.display.update()\n",
    "\n",
    "        if check_lost(locked_positions):\n",
    "            run = False\n",
    " \n",
    "    draw_text_middle(\"You Lost\", 40, (255,255,255), win)\n",
    "    pygame.display.update()\n",
    "    pygame.time.delay(2000)"
   ]
  },
  {
   "cell_type": "code",
   "execution_count": null,
   "id": "2040334a",
   "metadata": {},
   "outputs": [],
   "source": [
    "def main_menu():\n",
    "    run = True\n",
    "    while run:\n",
    "        win.fill((0,0,0))\n",
    "        draw_text_middle(\\'Press any key to begin.\\', 60, (255, 255, 255), win)\n",
    "        pygame.display.update()\n",
    "        for event in pygame.event.get():\n",
    "            if event.type == pygame.QUIT:\n",
    "                run = False\n",
    " \n",
    "            if event.type == pygame.KEYDOWN:\n",
    "                main()\n",
    "    pygame.quit()"
   ]
  },
  {
   "cell_type": "code",
   "execution_count": null,
   "id": "92d89155",
   "metadata": {},
   "outputs": [],
   "source": [
    "win = pygame.display.set_mode((s_width, s_height))\n",
    "pygame.display.set_caption(\\'Tetris\\')"
   ]
  },
  {
   "cell_type": "code",
   "execution_count": null,
   "id": "1613ae09",
   "metadata": {},
   "outputs": [],
   "source": [
    "main_menu()"
   ]
  }
 ],
 "metadata": {
  "kernelspec": {
   "display_name": "Python 3",
   "language": "python",
   "name": "python3"
  },
  "language_info": {
   "codemirror_mode": {
    "name": "ipython",
    "version": 3
   },
   "file_extension": ".py",
   "mimetype": "text/x-python",
   "name": "python",
   "nbconvert_exporter": "python",
   "pygments_lexer": "ipython3",
   "version": "3.8.10"
  }
 },
 "nbformat": 4,
 "nbformat_minor": 5
}

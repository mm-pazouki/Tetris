{
 "cells": [
  {
   "cell_type": "markdown",
   "id": "b29e4f7e",
   "metadata": {},
   "source": [
    "# Tetris Game"
   ]
  },
  {
   "cell_type": "code",
   "execution_count": null,
   "id": "3e36fb00",
   "metadata": {},
   "outputs": [],
   "source": [
    "import pygame\n",
    "import random"
   ]
  },
  {
   "cell_type": "code",
   "execution_count": null,
   "id": "cc02df98",
   "metadata": {},
   "outputs": [],
   "source": [
    "pygame.font.init()"
   ]
  },
  {
   "cell_type": "markdown",
   "id": "a33dbcc6",
   "metadata": {},
   "source": [
    "# Global Variables"
   ]
  },
  {
   "cell_type": "code",
   "execution_count": null,
   "id": "388e9241",
   "metadata": {},
   "outputs": [],
   "source": [
    "s_width = 800\n",
    "s_height = 700\n",
    "play_width = 300 \n",
    "play_height = 600\n",
    "block_size = 30\n",
    "top_left_x = (s_width - play_width) // 2\n",
    "top_left_y = s_height - play_height"
   ]
  },
  {
   "cell_type": "markdown",
   "id": "1a0290cb",
   "metadata": {},
   "source": [
    "# Shape Formations"
   ]
  },
  {
   "cell_type": "code",
   "execution_count": null,
   "id": "16a65703",
   "metadata": {},
   "outputs": [],
   "source": [
    "S = [[\\'.....\\',\n",
    "      \\'......\\',\n",
    "      \\'..00..\\',\n",
    "      \\'.00...\\',\n",
    "      \\'.....\\'],\n",
    "     [\\'.....\\',\n",
    "      \\'..0..\\',\n",
    "      \\'..00.\\',\n",
    "      \\'...0.\\',\n",
    "      \\'.....\\']]\n",
    " \n",
    "Z = [[\\'.....\\',\n",
    "      \\'.....\\',\n",
    "      \\'.00..\\',\n",
    "      \\'..00.\\',\n",
    "      \\'.....\\'],\n",
    "     [\\'.....\\',\n",
    "      \\'..0..\\',\n",
    "      \\'.00..\\',\n",
    "      \\'.0...\\',\n",
    "      \\'.....\\']]\n",
    " \n",
    "I = [[\\'..0..\\',\n",
    "      \\'..0..\\',\n",
    "      \\'..0..\\',\n",
    "      \\'..0..\\',\n",
    "      \\'.....\\'],\n",
    "     [\\'.....\\',\n",
    "      \\'0000.\\',\n",
    "      \\'.....\\',\n",
    "      \\'.....\\',\n",
    "      \\'.....\\']]\n",
    " \n",
    "O = [[\\'.....\\',\n",
    "      \\'.....\\',\n",
    "      \\'.00..\\',\n",
    "      \\'.00..\\',\n",
    "      \\'.....\\']]\n",
    " \n",
    "J = [[\\'.....\\',\n",
    "      \\'.0...\\',\n",
    "      \\'.000.\\',\n",
    "      \\'.....\\',\n",
    "      \\'.....\\'],\n",
    "     [\\'.....\\',\n",
    "      \\'..00.\\',\n",
    "      \\'..0..\\',\n",
    "      \\'..0..\\',\n",
    "      \\'.....\\'],\n",
    "     [\\'.....\\',\n",
    "      \\'.....\\',\n",
    "      \\'.000.\\',\n",
    "      \\'...0.\\',\n",
    "      \\'.....\\'],\n",
    "     [\\'.....\\',\n",
    "      \\'..0..\\',\n",
    "      \\'..0..\\',\n",
    "      \\'.00..\\',\n",
    "      \\'.....\\']]\n",
    " \n",
    "L = [[\\'.....\\',\n",
    "      \\'...0.\\',\n",
    "      \\'.000.\\',\n",
    "      \\'.....\\',\n",
    "      \\'.....\\'],\n",
    "     [\\'.....\\',\n",
    "      \\'..0..\\',\n",
    "      \\'..0..\\',\n",
    "      \\'..00.\\',\n",
    "      \\'.....\\'],\n",
    "     [\\'.....\\',\n",
    "      \\'.....\\',\n",
    "      \\'.000.\\',\n",
    "      \\'.0...\\',\n",
    "      \\'.....\\'],\n",
    "     [\\'.....\\',\n",
    "      \\'.00..\\',\n",
    "      \\'..0..\\',\n",
    "      \\'..0..\\',\n",
    "      \\'.....\\']]\n",
    " \n",
    "T = [[\\'.....\\',\n",
    "      \\'..0..\\',\n",
    "      \\'.000.\\',\n",
    "      \\'.....\\',\n",
    "      \\'.....\\'],\n",
    "     [\\'.....\\',\n",
    "      \\'..0..\\',\n",
    "      \\'..00.\\',\n",
    "      \\'..0..\\',\n",
    "      \\'.....\\'],\n",
    "     [\\'.....\\',\n",
    "      \\'.....\\',\n",
    "      \\'.000.\\',\n",
    "      \\'..0..\\',\n",
    "      \\'.....\\'],\n",
    "     [\\'.....\\',\n",
    "      \\'..0..\\',\n",
    "      \\'.00..\\',\n",
    "      \\'..0..\\',\n",
    "      \\'.....\\']]"
   ]
  },
  {
   "cell_type": "code",
   "execution_count": null,
   "id": "be29e2ab",
   "metadata": {},
   "outputs": [],
   "source": [
    "shapes = [S, Z, I, O, J, L, T]\n",
    "shape_colors = [(0, 255, 0), (255, 0, 0), (0, 255, 255), (255, 255, 0), (255, 165, 0), (0, 0, 255), (128, 0, 128)]"
   ]
  },
  {
   "cell_type": "code",
   "execution_count": null,
   "id": "32ee5051",
   "metadata": {},
   "outputs": [],
   "source": [
    "class Piece(object):\n",
    "    pass"
   ]
  },
  {
   "cell_type": "markdown",
   "id": "16a27829",
   "metadata": {},
   "source": [
    "# Functions"
   ]
  },
  {
   "cell_type": "code",
   "execution_count": null,
   "id": "6041b976",
   "metadata": {},
   "outputs": [],
   "source": [
    "def create_grid(locked_positions={}):\n",
    "    pass"
   ]
  },
  {
   "cell_type": "code",
   "execution_count": null,
   "id": "caa3a9da",
   "metadata": {},
   "outputs": [],
   "source": [
    "def convert_shape_format(shape):\n",
    "    pass"
   ]
  },
  {
   "cell_type": "code",
   "execution_count": null,
   "id": "910a6cde",
   "metadata": {},
   "outputs": [],
   "source": [
    "def valid_space(shape, grid):\n",
    "    pass"
   ]
  },
  {
   "cell_type": "code",
   "execution_count": null,
   "id": "941be2e0",
   "metadata": {},
   "outputs": [],
   "source": [
    "def check_lost(positions):\n",
    "    pass"
   ]
  },
  {
   "cell_type": "code",
   "execution_count": null,
   "id": "bedac69e",
   "metadata": {},
   "outputs": [],
   "source": [
    "def get_shape():\n",
    "    pass"
   ]
  },
  {
   "cell_type": "code",
   "execution_count": null,
   "id": "0e953c37",
   "metadata": {},
   "outputs": [],
   "source": [
    "def draw_text_middle(text, size, color, surface):\n",
    "    pass"
   ]
  },
  {
   "cell_type": "code",
   "execution_count": null,
   "id": "2e5f6105",
   "metadata": {},
   "outputs": [],
   "source": [
    "def draw_grid(surface, row, col):\n",
    "    pass"
   ]
  },
  {
   "cell_type": "code",
   "execution_count": null,
   "id": "da51a6ed",
   "metadata": {},
   "outputs": [],
   "source": [
    "def clear_rows(grid, locked):"
   ]
  },
  {
   "cell_type": "code",
   "execution_count": null,
   "id": "cb156c31",
   "metadata": {},
   "outputs": [],
   "source": [
    "def draw_next_shape(shape, surface):"
   ]
  },
  {
   "cell_type": "code",
   "execution_count": null,
   "id": "408fd8a6",
   "metadata": {},
   "outputs": [],
   "source": [
    "def draw_window(surface):\n",
    "    pass"
   ]
  },
  {
   "cell_type": "code",
   "execution_count": null,
   "id": "20a4a40f",
   "metadata": {},
   "outputs": [],
   "source": [
    "def main():\n",
    "    pass"
   ]
  },
  {
   "cell_type": "code",
   "execution_count": null,
   "id": "44ccde8b",
   "metadata": {},
   "outputs": [],
   "source": [
    "def main_menu():\n",
    "    pass"
   ]
  },
  {
   "cell_type": "code",
   "execution_count": null,
   "id": "6ddf0f09",
   "metadata": {},
   "outputs": [],
   "source": [
    "main_menu()"
   ]
  },
  {
   "cell_type": "code",
   "execution_count": null,
   "id": "4fdc516b",
   "metadata": {},
   "outputs": [],
   "source": []
  }
 ],
 "metadata": {
  "kernelspec": {
   "display_name": "Python 3",
   "language": "python",
   "name": "python3"
  },
  "language_info": {
   "codemirror_mode": {
    "name": "ipython",
    "version": 3
   },
   "file_extension": ".py",
   "mimetype": "text/x-python",
   "name": "python",
   "nbconvert_exporter": "python",
   "pygments_lexer": "ipython3",
   "version": "3.8.10"
  }
 },
 "nbformat": 4,
 "nbformat_minor": 5
}

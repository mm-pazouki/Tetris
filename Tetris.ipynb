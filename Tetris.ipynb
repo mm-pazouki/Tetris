{
 "cells": [
  {
   "cell_type": "markdown",
   "id": "1999386e",
   "metadata": {},
   "source": [
    "# Tetris Game"
   ]
  },
  {
   "cell_type": "code",
   "execution_count": 1,
   "id": "f24c0538",
   "metadata": {},
   "outputs": [
    {
     "name": "stdout",
     "output_type": "stream",
     "text": [
      "pygame 2.0.1 (SDL 2.0.14, Python 3.8.10)\n",
      "Hello from the pygame community. https://www.pygame.org/contribute.html\n"
     ]
    }
   ],
   "source": [
    "import pygame\n",
    "import random"
   ]
  },
  {
   "cell_type": "code",
   "execution_count": 2,
   "id": "9dc437bb",
   "metadata": {},
   "outputs": [],
   "source": [
    "pygame.font.init()"
   ]
  },
  {
   "cell_type": "markdown",
   "id": "7caaa1eb",
   "metadata": {},
   "source": [
    "# Global Variables"
   ]
  },
  {
   "cell_type": "code",
   "execution_count": 3,
   "id": "414abe45",
   "metadata": {},
   "outputs": [],
   "source": [
    "s_width = 800\n",
    "s_height = 700\n",
    "play_width = 300 \n",
    "play_height = 600\n",
    "block_size = 30\n",
    "top_left_x = (s_width - play_width) // 2\n",
    "top_left_y = s_height - play_height"
   ]
  },
  {
   "cell_type": "markdown",
   "id": "9eb466db",
   "metadata": {},
   "source": [
    "# Shape Formations"
   ]
  },
  {
   "cell_type": "code",
   "execution_count": 4,
   "id": "212835a2",
   "metadata": {},
   "outputs": [],
   "source": [
    "S = [['.....',\n",
    "      '......',\n",
    "      '..00..',\n",
    "      '.00...',\n",
    "      '.....'],\n",
    "     ['.....',\n",
    "      '..0..',\n",
    "      '..00.',\n",
    "      '...0.',\n",
    "      '.....']]\n",
    " \n",
    "Z = [['.....',\n",
    "      '.....',\n",
    "      '.00..',\n",
    "      '..00.',\n",
    "      '.....'],\n",
    "     ['.....',\n",
    "      '..0..',\n",
    "      '.00..',\n",
    "      '.0...',\n",
    "      '.....']]\n",
    " \n",
    "I = [['..0..',\n",
    "      '..0..',\n",
    "      '..0..',\n",
    "      '..0..',\n",
    "      '.....'],\n",
    "     ['.....',\n",
    "      '0000.',\n",
    "      '.....',\n",
    "      '.....',\n",
    "      '.....']]\n",
    " \n",
    "O = [['.....',\n",
    "      '.....',\n",
    "      '.00..',\n",
    "      '.00..',\n",
    "      '.....']]\n",
    " \n",
    "J = [['.....',\n",
    "      '.0...',\n",
    "      '.000.',\n",
    "      '.....',\n",
    "      '.....'],\n",
    "     ['.....',\n",
    "      '..00.',\n",
    "      '..0..',\n",
    "      '..0..',\n",
    "      '.....'],\n",
    "     ['.....',\n",
    "      '.....',\n",
    "      '.000.',\n",
    "      '...0.',\n",
    "      '.....'],\n",
    "     ['.....',\n",
    "      '..0..',\n",
    "      '..0..',\n",
    "      '.00..',\n",
    "      '.....']]\n",
    " \n",
    "L = [['.....',\n",
    "      '...0.',\n",
    "      '.000.',\n",
    "      '.....',\n",
    "      '.....'],\n",
    "     ['.....',\n",
    "      '..0..',\n",
    "      '..0..',\n",
    "      '..00.',\n",
    "      '.....'],\n",
    "     ['.....',\n",
    "      '.....',\n",
    "      '.000.',\n",
    "      '.0...',\n",
    "      '.....'],\n",
    "     ['.....',\n",
    "      '.00..',\n",
    "      '..0..',\n",
    "      '..0..',\n",
    "      '.....']]\n",
    " \n",
    "T = [['.....',\n",
    "      '..0..',\n",
    "      '.000.',\n",
    "      '.....',\n",
    "      '.....'],\n",
    "     ['.....',\n",
    "      '..0..',\n",
    "      '..00.',\n",
    "      '..0..',\n",
    "      '.....'],\n",
    "     ['.....',\n",
    "      '.....',\n",
    "      '.000.',\n",
    "      '..0..',\n",
    "      '.....'],\n",
    "     ['.....',\n",
    "      '..0..',\n",
    "      '.00..',\n",
    "      '..0..',\n",
    "      '.....']]"
   ]
  },
  {
   "cell_type": "code",
   "execution_count": 5,
   "id": "64b7bedd",
   "metadata": {},
   "outputs": [],
   "source": [
    "shapes = [S, Z, I, O, J, L, T]\n",
    "shape_colors = [(0, 255, 0), (255, 0, 0), (0, 255, 255), (255, 255, 0), (255, 165, 0), (0, 0, 255), (128, 0, 128)]"
   ]
  },
  {
   "cell_type": "code",
   "execution_count": 6,
   "id": "1cf3c411",
   "metadata": {},
   "outputs": [],
   "source": [
    "class Piece(object):\n",
    "    rows = 20  # y\n",
    "    columns = 10  # x\n",
    " \n",
    "    def __init__(self, column, row, shape):\n",
    "        self.x = column\n",
    "        self.y = row\n",
    "        self.shape = shape\n",
    "        self.color = shape_colors[shapes.index(shape)]\n",
    "        self.rotation = 0  # number from 0-3"
   ]
  },
  {
   "cell_type": "markdown",
   "id": "feb42b51",
   "metadata": {},
   "source": [
    "# Functions"
   ]
  },
  {
   "cell_type": "code",
   "execution_count": 7,
   "id": "0636754b",
   "metadata": {},
   "outputs": [],
   "source": [
    "def create_grid(locked_positions={}):\n",
    "    grid = [[(0,0,0) for x in range(10)] for x in range(20)]\n",
    " \n",
    "    for i in range(len(grid)):\n",
    "        for j in range(len(grid[i])):\n",
    "            if (j,i) in locked_positions:\n",
    "                c = locked_positions[(j,i)]\n",
    "                grid[i][j] = c\n",
    "    return grid"
   ]
  },
  {
   "cell_type": "code",
   "execution_count": 8,
   "id": "480faf47",
   "metadata": {},
   "outputs": [],
   "source": [
    "def convert_shape_format(shape):\n",
    "    positions = []\n",
    "    format = shape.shape[shape.rotation % len(shape.shape)]\n",
    " \n",
    "    for i, line in enumerate(format):\n",
    "        row = list(line)\n",
    "        for j, column in enumerate(row):\n",
    "            if column == '0':\n",
    "                positions.append((shape.x + j, shape.y + i))\n",
    " \n",
    "    for i, pos in enumerate(positions):\n",
    "        positions[i] = (pos[0] - 2, pos[1] - 4)\n",
    " \n",
    "    return positions"
   ]
  },
  {
   "cell_type": "code",
   "execution_count": 9,
   "id": "c822d64b",
   "metadata": {},
   "outputs": [],
   "source": [
    "def valid_space(shape, grid):\n",
    "    accepted_positions = [[(j, i) for j in range(10) if grid[i][j] == (0,0,0)] for i in range(20)]\n",
    "    accepted_positions = [j for sub in accepted_positions for j in sub]\n",
    "    formatted = convert_shape_format(shape)\n",
    " \n",
    "    for pos in formatted:\n",
    "        if pos not in accepted_positions:\n",
    "            if pos[1] > -1:\n",
    "                return False\n",
    " \n",
    "    return True"
   ]
  },
  {
   "cell_type": "code",
   "execution_count": 10,
   "id": "ddd0f71f",
   "metadata": {},
   "outputs": [],
   "source": [
    "def check_lost(positions):\n",
    "    for pos in positions:\n",
    "        x, y = pos\n",
    "        if y < 1:\n",
    "            return True\n",
    "    return False"
   ]
  },
  {
   "cell_type": "code",
   "execution_count": 11,
   "id": "2d1bd4e9",
   "metadata": {},
   "outputs": [],
   "source": [
    "def get_shape():\n",
    "    global shapes, shape_colors\n",
    " \n",
    "    return Piece(5, 0, random.choice(shapes))"
   ]
  },
  {
   "cell_type": "code",
   "execution_count": 12,
   "id": "d1642d9d",
   "metadata": {},
   "outputs": [],
   "source": [
    "def draw_text_middle(text, size, color, surface):\n",
    "        font = pygame.font.SysFont('comicsans', size, bold=True)\n",
    "        label = font.render(text, 1, color)\n",
    " \n",
    "        surface.blit(label, (top_left_x + play_width/2 - (label.get_width() / 2), top_left_y + play_height/2 - label.get_height()/2))"
   ]
  },
  {
   "cell_type": "code",
   "execution_count": 13,
   "id": "21c7bfa3",
   "metadata": {},
   "outputs": [],
   "source": [
    "def draw_grid(surface, row, col):\n",
    "    sx = top_left_x\n",
    "    sy = top_left_y\n",
    "    for i in range(row):\n",
    "        pygame.draw.line(surface, (128,128,128), (sx, sy+ i*30), (sx + play_width, sy + i * 30))  \n",
    "        for j in range(col):\n",
    "            pygame.draw.line(surface, (128,128,128), (sx + j * 30, sy), (sx + j * 30, sy + play_height))  "
   ]
  },
  {
   "cell_type": "code",
   "execution_count": 14,
   "id": "2134174f",
   "metadata": {},
   "outputs": [],
   "source": [
    "def clear_rows(grid, locked):\n",
    "    inc = 0\n",
    "    for i in range(len(grid)-1,-1,-1):\n",
    "        row = grid[i]\n",
    "        if (0, 0, 0) not in row:\n",
    "            inc += 1\n",
    "            ind = i\n",
    "            for j in range(len(row)):\n",
    "                try:\n",
    "                    del locked[(j, i)]\n",
    "                except:\n",
    "                    continue\n",
    "    if inc > 0:\n",
    "        for key in sorted(list(locked), key=lambda x: x[1])[::-1]:\n",
    "            x, y = key\n",
    "            if y < ind:\n",
    "                newKey = (x, y + inc)\n",
    "                locked[newKey] = locked.pop(key)"
   ]
  },
  {
   "cell_type": "code",
   "execution_count": 15,
   "id": "b4613352",
   "metadata": {},
   "outputs": [],
   "source": [
    "def draw_next_shape(shape, surface):\n",
    "    font = pygame.font.SysFont('comicsans', 30)\n",
    "    label = font.render('Next Shape', 1, (255,255,255))\n",
    " \n",
    "    sx = top_left_x + play_width + 50\n",
    "    sy = top_left_y + play_height/2 - 100\n",
    "    format = shape.shape[shape.rotation % len(shape.shape)]\n",
    " \n",
    "    for i, line in enumerate(format):\n",
    "        row = list(line)\n",
    "        for j, column in enumerate(row):\n",
    "            if column == '0':\n",
    "                pygame.draw.rect(surface, shape.color, (sx + j*30, sy + i*30, 30, 30), 0)\n",
    " \n",
    "    surface.blit(label, (sx + 10, sy- 30))"
   ]
  },
  {
   "cell_type": "code",
   "execution_count": 16,
   "id": "66423757",
   "metadata": {},
   "outputs": [],
   "source": [
    "def draw_window(surface):\n",
    "    surface.fill((0,0,0))\n",
    "\n",
    "    font = pygame.font.SysFont('comicsans', 60)\n",
    "    label = font.render('TETRIS', 1, (255,255,255))\n",
    " \n",
    "    surface.blit(label, (top_left_x + play_width / 2 - (label.get_width() / 2), 30))\n",
    "                        \n",
    "    for i in range(len(grid)):\n",
    "        for j in range(len(grid[i])):\n",
    "            pygame.draw.rect(surface, grid[i][j], (top_left_x + j* 30, top_left_y + i * 30, 30, 30), 0)\n",
    " \n",
    "    draw_grid(surface, 20, 10)\n",
    "    pygame.draw.rect(surface, (255, 0, 0), (top_left_x, top_left_y, play_width, play_height), 5)"
   ]
  },
  {
   "cell_type": "code",
   "execution_count": 17,
   "id": "b30469ba",
   "metadata": {},
   "outputs": [],
   "source": [
    "def main():\n",
    "    global grid\n",
    " \n",
    "    locked_positions = {}\n",
    "    grid = create_grid(locked_positions)\n",
    " \n",
    "    change_piece = False\n",
    "    run = True\n",
    "    current_piece = get_shape()\n",
    "    next_piece = get_shape()\n",
    "    clock = pygame.time.Clock()\n",
    "    fall_time = 0\n",
    " \n",
    "    while run:\n",
    "        fall_speed = 0.27\n",
    " \n",
    "        grid = create_grid(locked_positions)\n",
    "        fall_time += clock.get_rawtime()\n",
    "        clock.tick()\n",
    " \n",
    "        if fall_time/1000 >= fall_speed:\n",
    "            fall_time = 0\n",
    "            current_piece.y += 1\n",
    "            if not (valid_space(current_piece, grid)) and current_piece.y > 0:\n",
    "                current_piece.y -= 1\n",
    "                change_piece = True\n",
    " \n",
    "        for event in pygame.event.get():\n",
    "            if event.type == pygame.QUIT:\n",
    "                run = False\n",
    "                pygame.display.quit()\n",
    "                quit()\n",
    " \n",
    "            if event.type == pygame.KEYDOWN:\n",
    "                if event.key == pygame.K_LEFT:\n",
    "                    current_piece.x -= 1\n",
    "                    if not valid_space(current_piece, grid):\n",
    "                        current_piece.x += 1\n",
    " \n",
    "                elif event.key == pygame.K_RIGHT:\n",
    "                    current_piece.x += 1\n",
    "                    if not valid_space(current_piece, grid):\n",
    "                        current_piece.x -= 1\n",
    "                elif event.key == pygame.K_UP:\n",
    "\n",
    "                    current_piece.rotation = current_piece.rotation + 1 % len(current_piece.shape)\n",
    "                    if not valid_space(current_piece, grid):\n",
    "                        current_piece.rotation = current_piece.rotation - 1 % len(current_piece.shape)\n",
    " \n",
    "                if event.key == pygame.K_DOWN:\n",
    "\n",
    "                    current_piece.y += 1\n",
    "                    if not valid_space(current_piece, grid):\n",
    "                        current_piece.y -= 1\n",
    " \n",
    "                if event.key == pygame.K_SPACE:\n",
    "                   while valid_space(current_piece, grid):\n",
    "                       current_piece.y += 1\n",
    "                   current_piece.y -= 1\n",
    "                   print(convert_shape_format(current_piece))\n",
    " \n",
    "        shape_pos = convert_shape_format(current_piece)\n",
    "\n",
    "        for i in range(len(shape_pos)):\n",
    "            x, y = shape_pos[i]\n",
    "            if y > -1:\n",
    "                grid[y][x] = current_piece.color\n",
    "\n",
    "        if change_piece:\n",
    "            for pos in shape_pos:\n",
    "                p = (pos[0], pos[1])\n",
    "                locked_positions[p] = current_piece.color\n",
    "            current_piece = next_piece\n",
    "            next_piece = get_shape()\n",
    "            change_piece = False\n",
    "\n",
    "            clear_rows(grid, locked_positions)\n",
    " \n",
    "        draw_window(win)\n",
    "        draw_next_shape(next_piece, win)\n",
    "        pygame.display.update()\n",
    "\n",
    "        if check_lost(locked_positions):\n",
    "            run = False\n",
    " \n",
    "    draw_text_middle(\"You Lost\", 40, (255,255,255), win)\n",
    "    pygame.display.update()\n",
    "    pygame.time.delay(2000)"
   ]
  },
  {
   "cell_type": "code",
   "execution_count": 18,
   "id": "2040334a",
   "metadata": {},
   "outputs": [],
   "source": [
    "def main_menu():\n",
    "    run = True\n",
    "    while run:\n",
    "        win.fill((0,0,0))\n",
    "        draw_text_middle('Press any key to begin.', 60, (255, 255, 255), win)\n",
    "        pygame.display.update()\n",
    "        for event in pygame.event.get():\n",
    "            if event.type == pygame.QUIT:\n",
    "                run = False\n",
    " \n",
    "            if event.type == pygame.KEYDOWN:\n",
    "                main()\n",
    "    pygame.quit()"
   ]
  },
  {
   "cell_type": "code",
   "execution_count": 19,
   "id": "92d89155",
   "metadata": {},
   "outputs": [],
   "source": [
    "win = pygame.display.set_mode((s_width, s_height))\n",
    "pygame.display.set_caption('Tetris')"
   ]
  },
  {
   "cell_type": "code",
   "execution_count": 20,
   "id": "1613ae09",
   "metadata": {},
   "outputs": [
    {
     "name": "stdout",
     "output_type": "stream",
     "text": [
      "[(4, 18), (5, 18), (4, 19), (5, 19)]\n"
     ]
    },
    {
     "ename": "error",
     "evalue": "display Surface quit",
     "output_type": "error",
     "traceback": [
      "\u001b[1;31m---------------------------------------------------------------------------\u001b[0m",
      "\u001b[1;31merror\u001b[0m                                     Traceback (most recent call last)",
      "\u001b[1;32m<ipython-input-20-a587427b4ad1>\u001b[0m in \u001b[0;36m<module>\u001b[1;34m\u001b[0m\n\u001b[1;32m----> 1\u001b[1;33m \u001b[0mmain_menu\u001b[0m\u001b[1;33m(\u001b[0m\u001b[1;33m)\u001b[0m\u001b[1;33m\u001b[0m\u001b[1;33m\u001b[0m\u001b[0m\n\u001b[0m",
      "\u001b[1;32m<ipython-input-18-ae99cbe9a5c5>\u001b[0m in \u001b[0;36mmain_menu\u001b[1;34m()\u001b[0m\n\u001b[0;32m     10\u001b[0m \u001b[1;33m\u001b[0m\u001b[0m\n\u001b[0;32m     11\u001b[0m             \u001b[1;32mif\u001b[0m \u001b[0mevent\u001b[0m\u001b[1;33m.\u001b[0m\u001b[0mtype\u001b[0m \u001b[1;33m==\u001b[0m \u001b[0mpygame\u001b[0m\u001b[1;33m.\u001b[0m\u001b[0mKEYDOWN\u001b[0m\u001b[1;33m:\u001b[0m\u001b[1;33m\u001b[0m\u001b[1;33m\u001b[0m\u001b[0m\n\u001b[1;32m---> 12\u001b[1;33m                 \u001b[0mmain\u001b[0m\u001b[1;33m(\u001b[0m\u001b[1;33m)\u001b[0m\u001b[1;33m\u001b[0m\u001b[1;33m\u001b[0m\u001b[0m\n\u001b[0m\u001b[0;32m     13\u001b[0m     \u001b[0mpygame\u001b[0m\u001b[1;33m.\u001b[0m\u001b[0mquit\u001b[0m\u001b[1;33m(\u001b[0m\u001b[1;33m)\u001b[0m\u001b[1;33m\u001b[0m\u001b[1;33m\u001b[0m\u001b[0m\n",
      "\u001b[1;32m<ipython-input-17-cc3149ddc3ff>\u001b[0m in \u001b[0;36mmain\u001b[1;34m()\u001b[0m\n\u001b[0;32m     77\u001b[0m             \u001b[0mclear_rows\u001b[0m\u001b[1;33m(\u001b[0m\u001b[0mgrid\u001b[0m\u001b[1;33m,\u001b[0m \u001b[0mlocked_positions\u001b[0m\u001b[1;33m)\u001b[0m\u001b[1;33m\u001b[0m\u001b[1;33m\u001b[0m\u001b[0m\n\u001b[0;32m     78\u001b[0m \u001b[1;33m\u001b[0m\u001b[0m\n\u001b[1;32m---> 79\u001b[1;33m         \u001b[0mdraw_window\u001b[0m\u001b[1;33m(\u001b[0m\u001b[0mwin\u001b[0m\u001b[1;33m)\u001b[0m\u001b[1;33m\u001b[0m\u001b[1;33m\u001b[0m\u001b[0m\n\u001b[0m\u001b[0;32m     80\u001b[0m         \u001b[0mdraw_next_shape\u001b[0m\u001b[1;33m(\u001b[0m\u001b[0mnext_piece\u001b[0m\u001b[1;33m,\u001b[0m \u001b[0mwin\u001b[0m\u001b[1;33m)\u001b[0m\u001b[1;33m\u001b[0m\u001b[1;33m\u001b[0m\u001b[0m\n\u001b[0;32m     81\u001b[0m         \u001b[0mpygame\u001b[0m\u001b[1;33m.\u001b[0m\u001b[0mdisplay\u001b[0m\u001b[1;33m.\u001b[0m\u001b[0mupdate\u001b[0m\u001b[1;33m(\u001b[0m\u001b[1;33m)\u001b[0m\u001b[1;33m\u001b[0m\u001b[1;33m\u001b[0m\u001b[0m\n",
      "\u001b[1;32m<ipython-input-16-4ff58e4caf33>\u001b[0m in \u001b[0;36mdraw_window\u001b[1;34m(surface)\u001b[0m\n\u001b[0;32m      1\u001b[0m \u001b[1;32mdef\u001b[0m \u001b[0mdraw_window\u001b[0m\u001b[1;33m(\u001b[0m\u001b[0msurface\u001b[0m\u001b[1;33m)\u001b[0m\u001b[1;33m:\u001b[0m\u001b[1;33m\u001b[0m\u001b[1;33m\u001b[0m\u001b[0m\n\u001b[1;32m----> 2\u001b[1;33m     \u001b[0msurface\u001b[0m\u001b[1;33m.\u001b[0m\u001b[0mfill\u001b[0m\u001b[1;33m(\u001b[0m\u001b[1;33m(\u001b[0m\u001b[1;36m0\u001b[0m\u001b[1;33m,\u001b[0m\u001b[1;36m0\u001b[0m\u001b[1;33m,\u001b[0m\u001b[1;36m0\u001b[0m\u001b[1;33m)\u001b[0m\u001b[1;33m)\u001b[0m\u001b[1;33m\u001b[0m\u001b[1;33m\u001b[0m\u001b[0m\n\u001b[0m\u001b[0;32m      3\u001b[0m \u001b[1;33m\u001b[0m\u001b[0m\n\u001b[0;32m      4\u001b[0m     \u001b[0mfont\u001b[0m \u001b[1;33m=\u001b[0m \u001b[0mpygame\u001b[0m\u001b[1;33m.\u001b[0m\u001b[0mfont\u001b[0m\u001b[1;33m.\u001b[0m\u001b[0mSysFont\u001b[0m\u001b[1;33m(\u001b[0m\u001b[1;34m'comicsans'\u001b[0m\u001b[1;33m,\u001b[0m \u001b[1;36m60\u001b[0m\u001b[1;33m)\u001b[0m\u001b[1;33m\u001b[0m\u001b[1;33m\u001b[0m\u001b[0m\n\u001b[0;32m      5\u001b[0m     \u001b[0mlabel\u001b[0m \u001b[1;33m=\u001b[0m \u001b[0mfont\u001b[0m\u001b[1;33m.\u001b[0m\u001b[0mrender\u001b[0m\u001b[1;33m(\u001b[0m\u001b[1;34m'TETRIS'\u001b[0m\u001b[1;33m,\u001b[0m \u001b[1;36m1\u001b[0m\u001b[1;33m,\u001b[0m \u001b[1;33m(\u001b[0m\u001b[1;36m255\u001b[0m\u001b[1;33m,\u001b[0m\u001b[1;36m255\u001b[0m\u001b[1;33m,\u001b[0m\u001b[1;36m255\u001b[0m\u001b[1;33m)\u001b[0m\u001b[1;33m)\u001b[0m\u001b[1;33m\u001b[0m\u001b[1;33m\u001b[0m\u001b[0m\n",
      "\u001b[1;31merror\u001b[0m: display Surface quit"
     ]
    }
   ],
   "source": [
    "main_menu()"
   ]
  },
  {
   "cell_type": "code",
   "execution_count": null,
   "id": "cd55f41b",
   "metadata": {},
   "outputs": [],
   "source": []
  }
 ],
 "metadata": {
  "kernelspec": {
   "display_name": "Python 3",
   "language": "python",
   "name": "python3"
  },
  "language_info": {
   "codemirror_mode": {
    "name": "ipython",
    "version": 3
   },
   "file_extension": ".py",
   "mimetype": "text/x-python",
   "name": "python",
   "nbconvert_exporter": "python",
   "pygments_lexer": "ipython3",
   "version": "3.8.10"
  }
 },
 "nbformat": 4,
 "nbformat_minor": 5
}
